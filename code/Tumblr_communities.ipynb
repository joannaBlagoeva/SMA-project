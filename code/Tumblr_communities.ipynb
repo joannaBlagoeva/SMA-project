{
 "cells": [
  {
   "cell_type": "markdown",
   "id": "157540ac-8914-4e58-abb9-dcd8e3e01e01",
   "metadata": {},
   "source": [
    "Create a vector of tag similarity of the secondary_tag field"
   ]
  },
  {
   "cell_type": "code",
   "execution_count": null,
   "id": "e973332a-2e94-48ac-9cfc-d32fdc80012a",
   "metadata": {},
   "outputs": [],
   "source": [
    "pip install cdlib"
   ]
  },
  {
   "cell_type": "code",
   "execution_count": 30,
   "id": "08c02095-35b6-4d34-8201-eb083c1a1611",
   "metadata": {},
   "outputs": [],
   "source": [
    "from pathlib import Path\n",
    "import pandas as pd\n",
    "from sklearn.metrics.pairwise import cosine_similarity\n",
    "from sklearn.feature_extraction.text import CountVectorizer\n",
    "import networkx as nx\n",
    "from cdlib import algorithms\n",
    "from wordcloud import WordCloud\n",
    "import matplotlib.pyplot as plt\n",
    "from collections import Counter\n",
    "from sklearn.feature_extraction.text import ENGLISH_STOP_WORDS"
   ]
  },
  {
   "cell_type": "code",
   "execution_count": 264,
   "id": "4f2d82ba-60ca-4e4d-8e4b-d523ed5ebc2e",
   "metadata": {},
   "outputs": [
    {
     "name": "stdout",
     "output_type": "stream",
     "text": [
      "['Artists_of_tumblr.csv', 'Batman.csv', 'Cats_of_Tumblr.csv', 'Communities.csv', 'CrowdStrike.csv', 'Dungeon_Meshi.csv', 'House_of_the_Dragon.csv', 'Joe_Biden.csv', 'Jujutsu_Kaisen.csv', 'Palestine.csv', 'Supernatural.csv']\n"
     ]
    }
   ],
   "source": [
    "search_date=\"2024-07-15\"\n",
    "folder_path = Path(search_date)\n",
    "\n",
    "file_names = [f.name for f in folder_path.iterdir() if f.is_file()]\n",
    "\n",
    "print(file_names)"
   ]
  },
  {
   "cell_type": "code",
   "execution_count": 290,
   "id": "aeeb0f52-a949-4009-8985-08379b0800db",
   "metadata": {
    "scrolled": true
   },
   "outputs": [
    {
     "name": "stdout",
     "output_type": "stream",
     "text": [
      "   note_count   primary_tag  \\\n",
      "0         147  Supernatural   \n",
      "1          62  Supernatural   \n",
      "2           5  Supernatural   \n",
      "3         251  Supernatural   \n",
      "4          10  Supernatural   \n",
      "5          20  Supernatural   \n",
      "6           3  Supernatural   \n",
      "7           8  Supernatural   \n",
      "8          36  Supernatural   \n",
      "9          23  Supernatural   \n",
      "\n",
      "                                      secondary_tags  \\\n",
      "0  ['dean winchester'  'spn'  'deanwinchesterseri...   \n",
      "1  ['spn'  'dean winchester'  'cowboy dean winche...   \n",
      "2  ['lucifer spn'  'sam winchester'  'season 13 r...   \n",
      "3  ['spnedit'  'supernaturaledit'  'samwinchester...   \n",
      "4  ['spn incorrect quotes'  'supernatural incorre...   \n",
      "5    ['jensen ackles'  'dean winchester'  'spnedit']   \n",
      "6  ['fartface rambles'  'spn'  'fanfiction'  'twi...   \n",
      "7  ['supernatural rewatch'  'season 13'  'sam win...   \n",
      "8  ['spn'  'gabriel spn'  'sabriel'  'sam winches...   \n",
      "9  ['sam winchester'  'jared padalecki'  'spnedit...   \n",
      "\n",
      "                     blog_name  \\\n",
      "0               shirtlesssammy   \n",
      "1           castiel-w1nchester   \n",
      "2               wrenwinchester   \n",
      "3                  apocalyypse   \n",
      "4  chaoticnephalemcinnamonroll   \n",
      "5    anotherworldandanotherday   \n",
      "6                  fartface668   \n",
      "7               wrenwinchester   \n",
      "8                  woundlingus   \n",
      "9    anotherworldandanotherday   \n",
      "\n",
      "                                           post_body                     date  \n",
      "0  Dean Winchester every day – 149/326   Supernat...  2024-07-07 20:50:37 GMT  \n",
      "1  Here’s a cowboy!dean edit to brighten up your ...  2024-07-07 20:46:39 GMT  \n",
      "2  I’m sorry I just can’t get over the fact that ...  2024-07-07 20:36:22 GMT  \n",
      "3               Sam Winchester → S5EP5: Fallen Idols  2024-07-07 20:23:41 GMT  \n",
      "4  During a game of Hangman Bobby: Nope there’s n...  2024-07-07 20:21:10 GMT  \n",
      "5         NO WORDS ARE NEEDED!!!❤️‍🔥❤️‍🔥❤️‍🔥❤️‍🔥❤️‍🔥  2024-07-07 20:18:38 GMT  \n",
      "6  no fuck this fuck life fuck your landlord too ...  2024-07-07 20:18:22 GMT  \n",
      "7  God. Guys. Sam’s death in season 13 the one wh...  2024-07-07 20:17:49 GMT  \n",
      "8  How do you look at someone as soul deep scarre...  2024-07-07 20:11:24 GMT  \n",
      "9  Dazzling gorgeous!!(Profile:eyes nose mouth ea...  2024-07-07 20:03:32 GMT  \n"
     ]
    }
   ],
   "source": [
    "df = pd.read_csv(f'{search_date}/{file_names[10]}')\n",
    "print(df.head(10))"
   ]
  },
  {
   "cell_type": "code",
   "execution_count": 292,
   "id": "d1e652a6-9a27-4197-9cfd-fb45bf7fbc79",
   "metadata": {},
   "outputs": [
    {
     "data": {
      "text/plain": [
       "Index(['note_count', 'primary_tag', 'secondary_tags', 'blog_name', 'post_body',\n",
       "       'date'],\n",
       "      dtype='object')"
      ]
     },
     "execution_count": 292,
     "metadata": {},
     "output_type": "execute_result"
    }
   ],
   "source": [
    "df.columns"
   ]
  },
  {
   "cell_type": "code",
   "execution_count": 294,
   "id": "daabe037-ad9d-4d51-989c-db792af8660a",
   "metadata": {},
   "outputs": [],
   "source": [
    "def compute_cosine_similarity(input_tag_or_text):\n",
    "    \n",
    "    print(input_tag_or_text[:10])\n",
    "\n",
    "    vectorizer = CountVectorizer(analyzer='word')\n",
    "    tag_vectors = vectorizer.fit_transform(input_tag_or_text)\n",
    "    return cosine_similarity(tag_vectors)"
   ]
  },
  {
   "cell_type": "code",
   "execution_count": 296,
   "id": "ab706dbc-8981-44ed-9a10-395c143042f2",
   "metadata": {},
   "outputs": [
    {
     "name": "stdout",
     "output_type": "stream",
     "text": [
      "['dean winchester  spn  deanwinchesterseries  spnedit  deanedit  spn 7x23  survival of the fittest', 'spn  dean winchester  cowboy dean winchester  destiel  castiel  sam winchester  cowboy dean  edit  spnedit  supernatural edit  edits  editors on tumblr  spn edit  jensen ackles', 'lucifer spn  sam winchester  season 13 really had me in a chokehold  i’m screaming  i’m crying  and i can’t stop', 'spnedit  supernaturaledit  samwinchesteredit  sam winchester  *m  i swear to all gods i had a whole gifset planned abt spn autopsy rooms but  i dont know what happened  s5  hands  sam', 'spn incorrect quotes  supernatural incorrect quotes  supernatural fandom  spnfandom  spn', 'jensen ackles  dean winchester  spnedit', 'fartface rambles  spn  fanfiction  twist and shout  fuck you fuck you fuck you  fuck your landlord', 'supernatural rewatch  season 13  sam winchester  lucifer  spn  lucifer spn  apocalypse world  i’m gonna throw up  i’m screaming  and sobbing', 'spn  gabriel spn  sabriel  sam winchester', 'sam winchester  jared padalecki  spnedit  jaredpadalecki  jared  jarpad  cordri  cordell  cordell walker  cordell walker day  walkerfamily  walkertexasranger']\n",
      "['Dean Winchester every day – 149/326   Supernatural 7x23//Survival of the Fittest', 'Here’s a cowboy!dean edit to brighten up your day🩶  (ps:making this made me so freaking happy😭💕)   edit by: me!  scp: sirespn_packs  song: old town road', 'I’m sorry I just can’t get over the fact that the show repeatedly showed Lucifer as an abuser specifically as Sam’s abuser. And simultaneously refused to acknowledge that Sam was a victim. I’m gonna puke. (And even after everything he still has a positive outlook. I’m screaming.) also Lucifer is a fucking bitch boy.   Jared did a great job showing Sam’s guilt and how a victim might blame themselves without being given the dialogue or storylines to express or explain it.   But god it irks me. And I’m so emotional about it.   (I know I last posted about my rewatch back in like April or March. But I stopped watching right before tombstone and just couldn’t bring myself to go any further because well Cas was alive and everyone was together. The idea of going further seeing more people’s deaths and reliving the pain and seeing more pain. And I considered just starting over. But also I love Jack and I was just having a rough go so continuing watching supernatural wasn’t high on my priorities. Also just the emotional ruin that this show often puts me in was a struggle. Anyway.)', 'Sam Winchester → S5EP5: Fallen Idols', 'During a game of Hangman Bobby: Nope there’s no Q. You lose. Y/n: Are you kidding me?! You can still add something! Bobby: I already added a belt four earrings and an extra arm! YOU LOSE!', 'NO WORDS ARE NEEDED!!!❤️\\u200d🔥❤️\\u200d🔥❤️\\u200d🔥❤️\\u200d🔥❤️\\u200d🔥', 'no fuck this fuck life fuck your landlord too  IM READING TWIST AND SHOUt AGAINT ALL BETTER JUDGEMENT AND ADVISORY NOT TO I JUST SAW AN ELVIS TRIBUTE BAND AND NOW IM ON THE FLOOR SOHBING LISTENING TO I CANT HELP FALLING IN LOVE EWITH YOU      i haven’t even finished chapter one and everything hurts', 'God. Guys. Sam’s death in season 13 the one where the vampires eat him. Before Lucifer brings him back. (The fucker.) I forgot how traumatic it was. And Sam’s last words were “Dean! Dean.” I’m sobbing. Full on completely and totally a mess.', 'How do you look at someone as soul deep scarred as Sam and know you had a large hand in what happened to him? Especially now that you know intimately exactly how all of that would have happened to Sam because now it’s happened to you too. No one deserves that it was not just desserts. Gabriel lead Sam like a lamb to slaughter with the horseman ring idea knowing what would happen if they were successful regardless of his belief that it would never actually happen and the world would always end. Now they both know what that plan costs.   Gabriel wanted redemption Asmodeus puts that pretty plainly. Gabriel got his just desserts and he doesn’t want to play trickster anymore. For just a brief moment he and Castiel talk about a future where he owns up to his mistakes and goes home to make things right and while he doesn’t verbally agree the telling part is that he doesn’t say no. Gabriel wants to be better and it starts with the Winchesters.   And in the end he instead gets to watch Lucifer be everything he’s not. He watches Lucifer save everyone. Save Sam.   The violation of it all to be stripped of his only purpose here and watch the torturer tote around like the hero and impart this on Jack watch Sam force a smile and play tough like he isn’t still shuddering with the touch of Lucifer denying him autonomy to make him his plaything. Up until two weeks ago that was still Gabriel at the hands of Asmodeus.   He’s made to watch it because he’s not strong enough to do anything about it. He can’t save anyone he can’t save Sam he can’t even save himself.   I’d kill myself too.', 'Dazzling gorgeous!!(Profile:eyes nose mouth ears).. Complete package..❤️\\u200d🔥❤️\\u200d🔥❤️\\u200d🔥']\n"
     ]
    }
   ],
   "source": [
    "cosine_sim_matrix_tags = compute_cosine_similarity(\n",
    "    df['secondary_tags'].apply(lambda tags: \"\".join(tags.replace(\"[\",\"\").replace(\"]\",\"\").replace(\"'\",\"\"))).tolist()\n",
    ")\n",
    "cosine_sim_matrix_post_body = compute_cosine_similarity(\n",
    "    df['post_body'].apply(lambda body: \"\".join(body)).tolist()\n",
    ")"
   ]
  },
  {
   "cell_type": "code",
   "execution_count": 298,
   "id": "ce1bac92-dcc5-4926-897a-5a8fc2f80736",
   "metadata": {},
   "outputs": [],
   "source": [
    "G = nx.Graph()\n",
    "\n",
    "# Add nodes (representing posts) to the graph\n",
    "for idx, row in df.iterrows():\n",
    "    G.add_node(idx, blog_name=row['blog_name'], tags=row['secondary_tags'], post_body=row['post_body'])\n",
    "\n",
    "# Add edges based on similarity\n",
    "similarity_threshold = 0.7  # Adjust threshold as needed\n",
    "for i in range(len(df)):\n",
    "    for j in range(i + 1, len(df)):  # Avoid duplicate pairs\n",
    "        similarity = cosine_sim_matrix_tags[i, j]\n",
    "        similarity_post_body = cosine_sim_matrix_post_body[i,j]\n",
    "        #both are near 1 so they will be divided by 2\n",
    "        \n",
    "        if similarity > similarity_threshold:\n",
    "            G.add_edge(i, j, weight=(similarity+similarity_post_body)/2)\n",
    "            "
   ]
  },
  {
   "cell_type": "code",
   "execution_count": 300,
   "id": "2c5e5138-ee12-427a-96a9-73f6cd7832f9",
   "metadata": {},
   "outputs": [],
   "source": [
    "communities = algorithms.louvain(G)\n",
    "\n",
    "# Step 5: Display which profile belongs to which community\n",
    "community_dict = {}\n",
    "\n",
    "# For each community, map profiles to the community\n",
    "for i, community in enumerate(communities.communities):\n",
    "    community_dict[f\"Community {i + 1}\"] = [df.loc[node]['blog_name'] for node in community]"
   ]
  },
  {
   "cell_type": "code",
   "execution_count": 302,
   "id": "dd16f6d4-a07a-4e81-ae5e-c24b00907592",
   "metadata": {},
   "outputs": [
    {
     "name": "stdout",
     "output_type": "stream",
     "text": [
      "Supernatural\n"
     ]
    }
   ],
   "source": [
    "print(df.iloc[1,1])"
   ]
  },
  {
   "cell_type": "code",
   "execution_count": 304,
   "id": "8e3abfe6-abcb-4504-b6e2-0170f38708d6",
   "metadata": {},
   "outputs": [],
   "source": [
    "communities_file = Path(f\"{search_date}/Communities.csv\")\n",
    "\n",
    "if not communities_file.exists():\n",
    "    communities_file.write_text(\"tag,community,blog_names\\n\")\n",
    "    print(\"Communities file created and headers written.\")\n",
    "\n",
    "with communities_file.open(\"a\", encoding='utf-8') as file:\n",
    "    for community, profiles in community_dict.items():\n",
    "        file.write(f\"{df.iloc[1,1]},{community},{' '.join(profiles)}\\n\")"
   ]
  },
  {
   "cell_type": "code",
   "execution_count": 306,
   "id": "f6d27df1-161f-4004-8ddc-3937a07b75e8",
   "metadata": {},
   "outputs": [],
   "source": [
    "tag_folder_name = Path(f'{search_date}/{df.iloc[1,1].replace(\" \",\"_\")}/tag_cloud')\n",
    "tag_folder_name.mkdir(parents=True, exist_ok=True)"
   ]
  },
  {
   "cell_type": "code",
   "execution_count": 308,
   "id": "8eda1d78-586b-48a7-976d-3a7dadcb763d",
   "metadata": {},
   "outputs": [
    {
     "name": "stdout",
     "output_type": "stream",
     "text": [
      "Creating word cloud Community 1\n",
      "Creating word cloud Community 2\n",
      "Creating word cloud Community 3\n",
      "Creating word cloud Community 4\n",
      "Creating word cloud Community 5\n",
      "Creating word cloud Community 6\n",
      "Creating word cloud Community 7\n",
      "Creating word cloud Community 8\n",
      "Creating word cloud Community 9\n",
      "Creating word cloud Community 10\n",
      "Creating word cloud Community 11\n",
      "Creating word cloud Community 12\n",
      "Creating word cloud Community 13\n",
      "Creating word cloud Community 14\n",
      "Creating word cloud Community 15\n",
      "Creating word cloud Community 16\n",
      "Creating word cloud Community 17\n",
      "Creating word cloud Community 18\n",
      "Creating word cloud Community 19\n",
      "Creating word cloud Community 20\n"
     ]
    }
   ],
   "source": [
    "i=0\n",
    "for community, profiles in community_dict.items():\n",
    "    if i==20:\n",
    "        break\n",
    "    else:\n",
    "        i=i+1\n",
    "    \n",
    "    # Get the secondary tags for all posts in this community\n",
    "    community_tags = []\n",
    "    for profile in profiles:\n",
    "        posts = df[df['blog_name'] == profile]\n",
    "        for _, post in posts.iterrows():\n",
    "            community_tags.extend(post['secondary_tags'].replace(\"[\",\"\").replace(\"]\",\"\").replace(\"'\",\"\").split())\n",
    "    \n",
    "    # Count the frequency of each tag in the community\n",
    "    tag_counts = Counter(community_tags)\n",
    "\n",
    "    # Generate the tag cloud from the tag counts\n",
    "    wordcloud = WordCloud(width=800, height=400, background_color='white').generate_from_frequencies(tag_counts)\n",
    "\n",
    "    #Display the tag cloud\n",
    "    print(f\"Creating word cloud {community}\")\n",
    "    wordcloud.to_file(f\"{tag_folder_name}/tagcloud_{community.replace(\" \",\"_\")}.png\")\n",
    "    "
   ]
  },
  {
   "cell_type": "code",
   "execution_count": 310,
   "id": "cee96201-bca4-45cc-a14c-f5b96715b260",
   "metadata": {},
   "outputs": [],
   "source": [
    "word_folder_name = Path(f'{search_date}/{df.iloc[1,1].replace(\" \",\"_\")}/word_cloud')\n",
    "word_folder_name.mkdir(parents=True, exist_ok=True)"
   ]
  },
  {
   "cell_type": "code",
   "execution_count": 312,
   "id": "d6a956d9-e8f6-4c1e-8415-32cf5caaf25f",
   "metadata": {},
   "outputs": [
    {
     "name": "stdout",
     "output_type": "stream",
     "text": [
      "Creating word cloud Community 1\n",
      "Creating word cloud Community 2\n",
      "Creating word cloud Community 3\n",
      "Creating word cloud Community 4\n",
      "Creating word cloud Community 5\n",
      "Creating word cloud Community 6\n",
      "Creating word cloud Community 7\n",
      "Creating word cloud Community 8\n",
      "Creating word cloud Community 9\n",
      "Creating word cloud Community 10\n",
      "Creating word cloud Community 11\n",
      "Creating word cloud Community 12\n",
      "Creating word cloud Community 13\n",
      "Creating word cloud Community 14\n",
      "Creating word cloud Community 15\n",
      "Creating word cloud Community 16\n",
      "Creating word cloud Community 17\n",
      "Creating word cloud Community 18\n",
      "Creating word cloud Community 19\n",
      "Creating word cloud Community 20\n"
     ]
    }
   ],
   "source": [
    "stop_words = ENGLISH_STOP_WORDS  # You can also use your own custom list\n",
    "\n",
    "i=0\n",
    "for community, profiles in community_dict.items():\n",
    "    if i==20:\n",
    "        break\n",
    "    else:\n",
    "        i=i+1\n",
    "    \n",
    "    \n",
    "    community_tags = []\n",
    "    for profile in profiles:\n",
    "        posts = df[df['blog_name'] == profile]\n",
    "        for _, post in posts.iterrows():\n",
    "            community_tags.extend(post['post_body'].split())\n",
    "    \n",
    "    filtered_words = [word for word in community_tags if word.lower() not in stop_words]\n",
    "    tag_counts = Counter(filtered_words)\n",
    "\n",
    "    wordcloud = WordCloud(width=800, height=400, background_color='white').generate_from_frequencies(tag_counts)\n",
    "\n",
    "    print(f\"Creating word cloud {community}\")\n",
    "    wordcloud.to_file(f\"{word_folder_name}/wordcloud_{community.replace(\" \",\"_\")}.png\")"
   ]
  },
  {
   "cell_type": "code",
   "execution_count": null,
   "id": "6c44f3cd-a559-46df-9a54-837d4acc31f5",
   "metadata": {},
   "outputs": [],
   "source": []
  }
 ],
 "metadata": {
  "kernelspec": {
   "display_name": "Python 3 (ipykernel)",
   "language": "python",
   "name": "python3"
  },
  "language_info": {
   "codemirror_mode": {
    "name": "ipython",
    "version": 3
   },
   "file_extension": ".py",
   "mimetype": "text/x-python",
   "name": "python",
   "nbconvert_exporter": "python",
   "pygments_lexer": "ipython3",
   "version": "3.12.4"
  }
 },
 "nbformat": 4,
 "nbformat_minor": 5
}
